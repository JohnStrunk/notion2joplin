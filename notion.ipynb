{
 "cells": [
  {
   "cell_type": "markdown",
   "metadata": {},
   "source": [
    "# Notion API Documentation\n",
    "\n",
    "- Notion API reference: https://developers.notion.com/reference/intro\n",
    "- python-notion docs: https://ramnes.github.io/notion-sdk-py/"
   ]
  },
  {
   "cell_type": "code",
   "execution_count": null,
   "metadata": {},
   "outputs": [],
   "source": [
    "import os\n",
    "import notion_client\n",
    "\n",
    "# The TOKEN comes from the Notion Integrations page\n",
    "notion = notion_client.Client(auth=os.environ[\"N2J_TOKEN\"])"
   ]
  },
  {
   "cell_type": "code",
   "execution_count": null,
   "metadata": {},
   "outputs": [],
   "source": [
    "# Search for all the databases that the integration currently has access to\n",
    "notion.search(filter={\"value\": \"database\", \"property\": \"object\"})"
   ]
  }
 ],
 "metadata": {
  "kernelspec": {
   "display_name": ".venv",
   "language": "python",
   "name": "python3"
  },
  "language_info": {
   "codemirror_mode": {
    "name": "ipython",
    "version": 3
   },
   "file_extension": ".py",
   "mimetype": "text/x-python",
   "name": "python",
   "nbconvert_exporter": "python",
   "pygments_lexer": "ipython3",
   "version": "3.12.4"
  }
 },
 "nbformat": 4,
 "nbformat_minor": 2
}
